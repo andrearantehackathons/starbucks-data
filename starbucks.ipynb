{
 "cells": [
  {
   "cell_type": "code",
   "execution_count": 32,
   "metadata": {},
   "outputs": [],
   "source": [
    "import numpy as np\n",
    "from datascience import *\n",
    "\n",
    "\n",
    "# Read Table\n",
    "starbucks = Table().read_table(\"starbucks-menu-nutrition-drinks.csv\")\n",
    "\n",
    "# Filter out invalid data\n",
    "starbucks = starbucks.where('Calories', are.not_equal_to('-'))\n",
    "\n",
    "# convert data to int\n",
    "drinks = Table().with_columns(\n",
    "    'Drink', starbucks.column(0),\n",
    "    'Calories', starbucks.column(1).astype(float),\n",
    "    'Fat', starbucks.column(2).astype(float),\n",
    "    'Carbs', starbucks.column(3).astype(float),\n",
    "    'Sodium', starbucks.column(6).astype(float),\n",
    "    )"
   ]
  },
  {
   "cell_type": "markdown",
   "metadata": {},
   "source": [
    "This program helps you by searching for starbucks drinks with certain nutritional values. Fill in the variables below to get started."
   ]
  },
  {
   "cell_type": "code",
   "execution_count": 33,
   "metadata": {},
   "outputs": [
    {
     "data": {
      "text/html": [
       "<table border=\"1\" class=\"dataframe\">\n",
       "    <thead>\n",
       "        <tr>\n",
       "            <th>Drink</th> <th>Calories</th> <th>Fat</th> <th>Carbs</th> <th>Sodium</th>\n",
       "        </tr>\n",
       "    </thead>\n",
       "    <tbody>\n",
       "        <tr>\n",
       "            <td>Iced Coffee                             </td> <td>0       </td> <td>0   </td> <td>0    </td> <td>0     </td>\n",
       "        </tr>\n",
       "        <tr>\n",
       "            <td>Nariño 70 Cold Brew with Milk           </td> <td>0       </td> <td>0   </td> <td>0    </td> <td>0     </td>\n",
       "        </tr>\n",
       "        <tr>\n",
       "            <td>Blonde Roast                            </td> <td>5       </td> <td>0   </td> <td>0    </td> <td>10    </td>\n",
       "        </tr>\n",
       "        <tr>\n",
       "            <td>Decaf Pike Place® Roast                 </td> <td>5       </td> <td>0   </td> <td>0    </td> <td>10    </td>\n",
       "        </tr>\n",
       "        <tr>\n",
       "            <td>Featured Dark Roast                     </td> <td>5       </td> <td>0   </td> <td>0    </td> <td>10    </td>\n",
       "        </tr>\n",
       "        <tr>\n",
       "            <td>Iced Coffee                             </td> <td>5       </td> <td>0   </td> <td>0    </td> <td>5     </td>\n",
       "        </tr>\n",
       "        <tr>\n",
       "            <td>Nariño 70 Cold Brew                     </td> <td>5       </td> <td>0   </td> <td>0    </td> <td>15    </td>\n",
       "        </tr>\n",
       "        <tr>\n",
       "            <td>Nitro Cold Brew                         </td> <td>5       </td> <td>0   </td> <td>0    </td> <td>10    </td>\n",
       "        </tr>\n",
       "        <tr>\n",
       "            <td>Pike Place® Roast                       </td> <td>5       </td> <td>0   </td> <td>0    </td> <td>10    </td>\n",
       "        </tr>\n",
       "        <tr>\n",
       "            <td>Starbucks® Iced Coffee Unsweetened      </td> <td>10      </td> <td>0   </td> <td>2    </td> <td>0     </td>\n",
       "        </tr>\n",
       "        <tr>\n",
       "            <td>Clover® Brewed Coffee                   </td> <td>10      </td> <td>0   </td> <td>0    </td> <td>10    </td>\n",
       "        </tr>\n",
       "        <tr>\n",
       "            <td>Teavana® Shaken Iced Black Tea          </td> <td>30      </td> <td>0   </td> <td>8    </td> <td>5     </td>\n",
       "        </tr>\n",
       "        <tr>\n",
       "            <td>Teavana® Shaken Iced Green Tea          </td> <td>30      </td> <td>0   </td> <td>8    </td> <td>5     </td>\n",
       "        </tr>\n",
       "        <tr>\n",
       "            <td>Teavana® Shaken Iced Passion Tango™ Tea </td> <td>30      </td> <td>0   </td> <td>8    </td> <td>5     </td>\n",
       "        </tr>\n",
       "        <tr>\n",
       "            <td>Cool Lime Starbucks Refreshers™ Beverage</td> <td>45      </td> <td>0   </td> <td>11   </td> <td>10    </td>\n",
       "        </tr>\n",
       "        <tr>\n",
       "            <td>Starbucks Doubleshot® on Ice Beverage   </td> <td>45      </td> <td>1   </td> <td>5    </td> <td>40    </td>\n",
       "        </tr>\n",
       "    </tbody>\n",
       "</table>"
      ],
      "text/plain": [
       "<IPython.core.display.HTML object>"
      ]
     },
     "metadata": {},
     "output_type": "display_data"
    }
   ],
   "source": [
    "## What is the max Calories you want?\n",
    "max_calories = 50\n",
    "\n",
    "## What is the max Fat (g) you want?\n",
    "max_fat = 50\n",
    "\n",
    "## What is the max Carb. (g) you want?\n",
    "max_carb = 50\n",
    "\n",
    "## What is the max sodium you want?\n",
    "max_sodium = 50\n",
    "\n",
    "drinks.where('Calories', are.below(max_calories)).where('Fat', are.below(max_fat)).where('Carbs', are.below(max_carb)).where('Sodium', are.below(max_sodium)).sort(\"Calories\", descending=False).show(9999)"
   ]
  }
 ],
 "metadata": {
  "kernelspec": {
   "display_name": "Python 3.9.13 64-bit (windows store)",
   "language": "python",
   "name": "python3"
  },
  "language_info": {
   "codemirror_mode": {
    "name": "ipython",
    "version": 3
   },
   "file_extension": ".py",
   "mimetype": "text/x-python",
   "name": "python",
   "nbconvert_exporter": "python",
   "pygments_lexer": "ipython3",
   "version": "3.9.13"
  },
  "orig_nbformat": 4,
  "vscode": {
   "interpreter": {
    "hash": "52fef9f371462526e6c16fbedf2b5b9bc32d90752958a415cf9672d41d7c1c70"
   }
  }
 },
 "nbformat": 4,
 "nbformat_minor": 2
}
